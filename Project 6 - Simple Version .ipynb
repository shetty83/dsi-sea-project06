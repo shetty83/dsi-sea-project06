{
 "cells": [
  {
   "cell_type": "markdown",
   "metadata": {},
   "source": [
    "### Problem Statement\n",
    "\n",
    "Predicting IMDB Rating for movies based on Reviews, Actors, Genre, Plot, Country, Language, Gross Revenue etc."
   ]
  },
  {
   "cell_type": "markdown",
   "metadata": {},
   "source": [
    "### Blog Post for the Project\n",
    "####  https://shettydatascience.wordpress.com/2016/11/14/scraping-top-movies-data-and-predicting-imdb-ratings-using-tree-based-model/"
   ]
  },
  {
   "cell_type": "markdown",
   "metadata": {},
   "source": [
    "### Data and Visuals in Website\n",
    "#### https://obscure-hollows-37474.herokuapp.com/site/"
   ]
  },
  {
   "cell_type": "code",
   "execution_count": 327,
   "metadata": {
    "collapsed": true
   },
   "outputs": [],
   "source": [
    "import pandas as pd\n",
    "import numpy as np\n",
    "import urllib2\n",
    "from bs4 import BeautifulSoup\n",
    "import json\n",
    "import matplotlib.pyplot as plt\n",
    "import seaborn as sns\n",
    "%matplotlib inline"
   ]
  },
  {
   "cell_type": "code",
   "execution_count": 324,
   "metadata": {
    "collapsed": true
   },
   "outputs": [],
   "source": [
    "from sklearn.feature_extraction.text import CountVectorizer\n",
    "from sklearn.tree import DecisionTreeRegressor\n",
    "from sklearn.ensemble import RandomForestRegressor, AdaBoostRegressor,GradientBoostingRegressor,\n",
    "from sklearn.ensemble import ExtraTreesRegressor, BaggingRegressor\n",
    "from sklearn.preprocessing import StandardScaler, Normalizer\n",
    "from sklearn.cross_validation import train_test_split, cross_val_score\n",
    "from sklearn.grid_search import GridSearchCV\n",
    "from sklearn.feature_selection import SelectKBest, f_classif"
   ]
  },
  {
   "cell_type": "markdown",
   "metadata": {},
   "source": [
    "### Load Data from CSV which was scraped from IMDB website"
   ]
  },
  {
   "cell_type": "code",
   "execution_count": 384,
   "metadata": {
    "collapsed": true
   },
   "outputs": [],
   "source": [
    "df = pd.read_csv('imdb_new.csv', sep ='\\t')"
   ]
  },
  {
   "cell_type": "code",
   "execution_count": 385,
   "metadata": {
    "collapsed": false
   },
   "outputs": [
    {
     "data": {
      "text/plain": [
       "(250, 293)"
      ]
     },
     "execution_count": 385,
     "metadata": {},
     "output_type": "execute_result"
    }
   ],
   "source": [
    "df.shape"
   ]
  },
  {
   "cell_type": "markdown",
   "metadata": {},
   "source": [
    "### Scrape IMDb website for Movie Reviews"
   ]
  },
  {
   "cell_type": "code",
   "execution_count": 57,
   "metadata": {
    "collapsed": false
   },
   "outputs": [],
   "source": [
    "reviews = []\n",
    "for item in df.imdbID:\n",
    "    string = ''\n",
    "    s = BeautifulSoup(urllib2.urlopen('http://www.imdb.com/title/'+item+'/reviews?ref_=tt_urv').read(), \"lxml\")\n",
    "    for ele in s.find_all('div', id= \"tn15content\"):\n",
    "        for x in ele.find_all('p', text=True, recursive=False):\n",
    "            string += x.text\n",
    "    reviews.append(string)"
   ]
  },
  {
   "cell_type": "markdown",
   "metadata": {},
   "source": [
    "### Feature Extraction from Reviews "
   ]
  },
  {
   "cell_type": "code",
   "execution_count": 266,
   "metadata": {
    "collapsed": true
   },
   "outputs": [],
   "source": [
    "from sklearn.feature_extraction import text\n",
    "my_words = ['10', 'acting', 'action', 'actors', 'away', 'believe', 'cast', 'character', 'characters',\n",
    "            'come', 'does','cinema','did','doesn','don', 'end' , 'film','films','going','just','know',\n",
    "            'll', 'make','makes','making','man','let','people','say','ve','years','think','times',\n",
    "            'time','way','scene','scenes','thought','thing','things']\n",
    "v1 = CountVectorizer(max_features = 50,\n",
    "                     ngram_range=(1, 1),\n",
    "                     stop_words=text.ENGLISH_STOP_WORDS.union(my_words),\n",
    "                     binary=True)\n",
    "\n",
    "rev1 = v1.fit_transform(reviews)\n",
    "X_rev1 = pd.DataFrame(rev1.todense(), columns=v1.get_feature_names())"
   ]
  },
  {
   "cell_type": "code",
   "execution_count": 267,
   "metadata": {
    "collapsed": true
   },
   "outputs": [],
   "source": [
    "v2 = CountVectorizer(max_features = 50,\n",
    "                         ngram_range=(2, 2),\n",
    "                         stop_words='english',\n",
    "                         binary=True)\n",
    "\n",
    "rev2 = v2.fit_transform(reviews)\n",
    "X_rev2 = pd.DataFrame(rev2.todense(), columns=v2.get_feature_names())"
   ]
  },
  {
   "cell_type": "markdown",
   "metadata": {},
   "source": [
    "### Merge New features with old data"
   ]
  },
  {
   "cell_type": "code",
   "execution_count": 268,
   "metadata": {
    "collapsed": true
   },
   "outputs": [],
   "source": [
    "IMDB_Data = pd.concat([df,X_rev1,X_rev2], axis=1, join_axes=[X_rev1.index])"
   ]
  },
  {
   "cell_type": "code",
   "execution_count": 269,
   "metadata": {
    "collapsed": false
   },
   "outputs": [
    {
     "data": {
      "text/plain": [
       "(250, 393)"
      ]
     },
     "execution_count": 269,
     "metadata": {},
     "output_type": "execute_result"
    }
   ],
   "source": [
    "IMDB_Data.shape"
   ]
  },
  {
   "cell_type": "markdown",
   "metadata": {},
   "source": [
    "### Normalize all the numeric data. Finalising the variables/features and target"
   ]
  },
  {
   "cell_type": "code",
   "execution_count": 309,
   "metadata": {
    "collapsed": false
   },
   "outputs": [],
   "source": [
    "SS = StandardScaler()\n",
    "\n",
    "X = SS.fit_transform(IMDB_Data._get_numeric_data().drop(\"imdbRating\",axis=1))\n",
    "y = IMDB_Data.imdbRating"
   ]
  },
  {
   "cell_type": "code",
   "execution_count": 416,
   "metadata": {
    "collapsed": false
   },
   "outputs": [
    {
     "data": {
      "text/html": [
       "<div>\n",
       "<table border=\"1\" class=\"dataframe\">\n",
       "  <thead>\n",
       "    <tr style=\"text-align: right;\">\n",
       "      <th></th>\n",
       "      <th>Unnamed: 0</th>\n",
       "      <th>Metascore</th>\n",
       "      <th>Response</th>\n",
       "      <th>Runtime</th>\n",
       "      <th>Year</th>\n",
       "      <th>imdbVotes</th>\n",
       "      <th>grossRevenue</th>\n",
       "      <th>aamir khan</th>\n",
       "      <th>adrien brody</th>\n",
       "      <th>al pacino</th>\n",
       "      <th>...</th>\n",
       "      <th>special effects</th>\n",
       "      <th>supporting cast</th>\n",
       "      <th>think movie</th>\n",
       "      <th>thought provoking</th>\n",
       "      <th>time watch</th>\n",
       "      <th>ve seen</th>\n",
       "      <th>watch movie</th>\n",
       "      <th>year old</th>\n",
       "      <th>years ago</th>\n",
       "      <th>years old</th>\n",
       "    </tr>\n",
       "  </thead>\n",
       "  <tbody>\n",
       "    <tr>\n",
       "      <th>0</th>\n",
       "      <td>-1.725136</td>\n",
       "      <td>-0.003638</td>\n",
       "      <td>0.0</td>\n",
       "      <td>0.400178</td>\n",
       "      <td>0.411349</td>\n",
       "      <td>3.844560</td>\n",
       "      <td>-0.534835</td>\n",
       "      <td>-0.110208</td>\n",
       "      <td>-0.089803</td>\n",
       "      <td>-0.127515</td>\n",
       "      <td>...</td>\n",
       "      <td>-0.261488</td>\n",
       "      <td>-0.270114</td>\n",
       "      <td>-0.214535</td>\n",
       "      <td>-0.243561</td>\n",
       "      <td>-0.224544</td>\n",
       "      <td>-0.512471</td>\n",
       "      <td>-0.286794</td>\n",
       "      <td>-0.261488</td>\n",
       "      <td>-0.214535</td>\n",
       "      <td>-0.243561</td>\n",
       "    </tr>\n",
       "    <tr>\n",
       "      <th>1</th>\n",
       "      <td>-1.711280</td>\n",
       "      <td>2.270044</td>\n",
       "      <td>0.0</td>\n",
       "      <td>1.431888</td>\n",
       "      <td>-0.498350</td>\n",
       "      <td>2.273202</td>\n",
       "      <td>0.376252</td>\n",
       "      <td>-0.110208</td>\n",
       "      <td>-0.089803</td>\n",
       "      <td>7.842194</td>\n",
       "      <td>...</td>\n",
       "      <td>-0.261488</td>\n",
       "      <td>-0.270114</td>\n",
       "      <td>-0.214535</td>\n",
       "      <td>-0.243561</td>\n",
       "      <td>-0.224544</td>\n",
       "      <td>1.951331</td>\n",
       "      <td>3.486817</td>\n",
       "      <td>-0.261488</td>\n",
       "      <td>-0.214535</td>\n",
       "      <td>4.105745</td>\n",
       "    </tr>\n",
       "    <tr>\n",
       "      <th>2</th>\n",
       "      <td>-1.697423</td>\n",
       "      <td>-0.003638</td>\n",
       "      <td>0.0</td>\n",
       "      <td>2.276014</td>\n",
       "      <td>-0.415650</td>\n",
       "      <td>1.182675</td>\n",
       "      <td>-0.287055</td>\n",
       "      <td>-0.110208</td>\n",
       "      <td>-0.089803</td>\n",
       "      <td>7.842194</td>\n",
       "      <td>...</td>\n",
       "      <td>-0.261488</td>\n",
       "      <td>-0.270114</td>\n",
       "      <td>-0.214535</td>\n",
       "      <td>-0.243561</td>\n",
       "      <td>-0.224544</td>\n",
       "      <td>-0.512471</td>\n",
       "      <td>-0.286794</td>\n",
       "      <td>-0.261488</td>\n",
       "      <td>-0.214535</td>\n",
       "      <td>-0.243561</td>\n",
       "    </tr>\n",
       "    <tr>\n",
       "      <th>3</th>\n",
       "      <td>-1.683567</td>\n",
       "      <td>0.223730</td>\n",
       "      <td>0.0</td>\n",
       "      <td>0.712817</td>\n",
       "      <td>0.990249</td>\n",
       "      <td>3.811471</td>\n",
       "      <td>3.785918</td>\n",
       "      <td>-0.110208</td>\n",
       "      <td>-0.089803</td>\n",
       "      <td>-0.127515</td>\n",
       "      <td>...</td>\n",
       "      <td>-0.261488</td>\n",
       "      <td>-0.270114</td>\n",
       "      <td>-0.214535</td>\n",
       "      <td>-0.243561</td>\n",
       "      <td>-0.224544</td>\n",
       "      <td>1.951331</td>\n",
       "      <td>-0.286794</td>\n",
       "      <td>-0.261488</td>\n",
       "      <td>-0.214535</td>\n",
       "      <td>-0.243561</td>\n",
       "    </tr>\n",
       "    <tr>\n",
       "      <th>4</th>\n",
       "      <td>-1.669710</td>\n",
       "      <td>-0.003638</td>\n",
       "      <td>0.0</td>\n",
       "      <td>-1.037962</td>\n",
       "      <td>-1.118599</td>\n",
       "      <td>0.146166</td>\n",
       "      <td>-0.332886</td>\n",
       "      <td>-0.110208</td>\n",
       "      <td>-0.089803</td>\n",
       "      <td>-0.127515</td>\n",
       "      <td>...</td>\n",
       "      <td>-0.261488</td>\n",
       "      <td>-0.270114</td>\n",
       "      <td>-0.214535</td>\n",
       "      <td>-0.243561</td>\n",
       "      <td>-0.224544</td>\n",
       "      <td>-0.512471</td>\n",
       "      <td>-0.286794</td>\n",
       "      <td>3.824265</td>\n",
       "      <td>-0.214535</td>\n",
       "      <td>-0.243561</td>\n",
       "    </tr>\n",
       "  </tbody>\n",
       "</table>\n",
       "<p>5 rows × 378 columns</p>\n",
       "</div>"
      ],
      "text/plain": [
       "   Unnamed: 0  Metascore  Response   Runtime      Year  imdbVotes  \\\n",
       "0   -1.725136  -0.003638       0.0  0.400178  0.411349   3.844560   \n",
       "1   -1.711280   2.270044       0.0  1.431888 -0.498350   2.273202   \n",
       "2   -1.697423  -0.003638       0.0  2.276014 -0.415650   1.182675   \n",
       "3   -1.683567   0.223730       0.0  0.712817  0.990249   3.811471   \n",
       "4   -1.669710  -0.003638       0.0 -1.037962 -1.118599   0.146166   \n",
       "\n",
       "   grossRevenue  aamir khan  adrien brody  al pacino    ...      \\\n",
       "0     -0.534835   -0.110208     -0.089803  -0.127515    ...       \n",
       "1      0.376252   -0.110208     -0.089803   7.842194    ...       \n",
       "2     -0.287055   -0.110208     -0.089803   7.842194    ...       \n",
       "3      3.785918   -0.110208     -0.089803  -0.127515    ...       \n",
       "4     -0.332886   -0.110208     -0.089803  -0.127515    ...       \n",
       "\n",
       "   special effects  supporting cast  think movie  thought provoking  \\\n",
       "0        -0.261488        -0.270114    -0.214535          -0.243561   \n",
       "1        -0.261488        -0.270114    -0.214535          -0.243561   \n",
       "2        -0.261488        -0.270114    -0.214535          -0.243561   \n",
       "3        -0.261488        -0.270114    -0.214535          -0.243561   \n",
       "4        -0.261488        -0.270114    -0.214535          -0.243561   \n",
       "\n",
       "   time watch   ve seen  watch movie  year old  years ago  years old  \n",
       "0   -0.224544 -0.512471    -0.286794 -0.261488  -0.214535  -0.243561  \n",
       "1   -0.224544  1.951331     3.486817 -0.261488  -0.214535   4.105745  \n",
       "2   -0.224544 -0.512471    -0.286794 -0.261488  -0.214535  -0.243561  \n",
       "3   -0.224544  1.951331    -0.286794 -0.261488  -0.214535  -0.243561  \n",
       "4   -0.224544 -0.512471    -0.286794  3.824265  -0.214535  -0.243561  \n",
       "\n",
       "[5 rows x 378 columns]"
      ]
     },
     "execution_count": 416,
     "metadata": {},
     "output_type": "execute_result"
    }
   ],
   "source": [
    "X_Df = pd.DataFrame(X, columns = IMDB_Data._get_numeric_data().drop(\"imdbRating\", axis=1).columns)\n",
    "X_Df.head()"
   ]
  },
  {
   "cell_type": "code",
   "execution_count": 418,
   "metadata": {
    "collapsed": false
   },
   "outputs": [],
   "source": [
    "X_ndf = X_Df.drop(\"Unnamed: 0\", axis=1)"
   ]
  },
  {
   "cell_type": "code",
   "execution_count": 423,
   "metadata": {
    "collapsed": false
   },
   "outputs": [
    {
     "data": {
      "text/plain": [
       "(250, 377)"
      ]
     },
     "execution_count": 423,
     "metadata": {},
     "output_type": "execute_result"
    }
   ],
   "source": [
    "X_ndf.shape"
   ]
  },
  {
   "cell_type": "markdown",
   "metadata": {},
   "source": [
    "### Train Test Split"
   ]
  },
  {
   "cell_type": "code",
   "execution_count": 314,
   "metadata": {
    "collapsed": false
   },
   "outputs": [],
   "source": [
    "X_train, X_test, y_train, y_test = train_test_split(X, y, test_size=0.33, random_state=42)"
   ]
  },
  {
   "cell_type": "code",
   "execution_count": 293,
   "metadata": {
    "collapsed": true
   },
   "outputs": [],
   "source": [
    "def model_evaluate(model, name):\n",
    "    model.fit(X_train, y_train)\n",
    "    print \"Score for\", name, model.score(X_test, y_test)"
   ]
  },
  {
   "cell_type": "code",
   "execution_count": 294,
   "metadata": {
    "collapsed": true
   },
   "outputs": [],
   "source": [
    "DT =  DecisionTreeRegressor(random_state=1)\n",
    "BDT = BaggingRegressor(DT, random_state=1)\n",
    "RFR = RandomForestRegressor(random_state=1)\n",
    "ABR = AdaBoostRegressor(random_state=1)\n",
    "GBR = GradientBoostingRegressor(random_state=1)"
   ]
  },
  {
   "cell_type": "code",
   "execution_count": 295,
   "metadata": {
    "collapsed": false
   },
   "outputs": [
    {
     "name": "stdout",
     "output_type": "stream",
     "text": [
      "Score for Decision Tree 0.936291065398\n",
      "Score for Bagging Decision Tree 0.926377955173\n",
      "Score for Random Forest 0.93942554498\n",
      "Score for Ada Boost 0.929019420732\n",
      "Score for Gradient Boosting 0.950387150333\n"
     ]
    }
   ],
   "source": [
    "model_evaluate(DT, \"Decision Tree\")\n",
    "model_evaluate(BDT, \"Bagging Decision Tree\")\n",
    "model_evaluate(RFR, \"Random Forest\")\n",
    "model_evaluate(ABR, \"Ada Boost\")\n",
    "model_evaluate(GBR, \"Gradient Boosting\")"
   ]
  },
  {
   "cell_type": "markdown",
   "metadata": {},
   "source": [
    "### Gradient Boosting gives the best score which is 0.950"
   ]
  },
  {
   "cell_type": "markdown",
   "metadata": {},
   "source": [
    "### I would like to see if any reduction in number of features will give a better score"
   ]
  },
  {
   "cell_type": "markdown",
   "metadata": {},
   "source": [
    "#### Get the K best features "
   ]
  },
  {
   "cell_type": "code",
   "execution_count": 323,
   "metadata": {
    "collapsed": false
   },
   "outputs": [
    {
     "name": "stdout",
     "output_type": "stream",
     "text": [
      "Kbest features 123 with max score 0.964864 \n"
     ]
    }
   ],
   "source": [
    "max_score = 0.9\n",
    "max_i = 5\n",
    "for i in range(5,378):\n",
    "    GBR = GradientBoostingRegressor(random_state=1)\n",
    "    selector = SelectKBest(f_classif, k=i)\n",
    "    selected_data = selector.fit_transform(X, y)\n",
    "    Xbest = pd.DataFrame(selected_data)\n",
    "    X_train, X_test, y_train, y_test = train_test_split(Xbest, y, test_size=0.33, random_state=42)\n",
    "    \n",
    "    GBR.fit(X_train, y_train)\n",
    "    \n",
    "    score = GBR.score(X_test, y_test)\n",
    "    \n",
    "    if score > max_score:\n",
    "        max_score = score\n",
    "        max_i = i\n",
    "print \"Kbest features %d with max score %f \" %(max_i, max_score)"
   ]
  },
  {
   "cell_type": "markdown",
   "metadata": {},
   "source": [
    "### The score is improved by reducing the number features using Kbest to 123"
   ]
  },
  {
   "cell_type": "code",
   "execution_count": 405,
   "metadata": {
    "collapsed": true
   },
   "outputs": [],
   "source": [
    "selector = SelectKBest(f_classif, k=123)\n",
    "\n",
    "selected_data = selector.fit_transform(X, y)\n",
    "Xbest = pd.DataFrame(selected_data)\n",
    "\n",
    "X_train, X_test, y_train, y_test = train_test_split(Xbest, y, test_size=0.33, random_state=42)"
   ]
  },
  {
   "cell_type": "markdown",
   "metadata": {},
   "source": [
    "### Plotting Actuals vs Predicted values"
   ]
  },
  {
   "cell_type": "code",
   "execution_count": 375,
   "metadata": {
    "collapsed": false
   },
   "outputs": [
    {
     "name": "stdout",
     "output_type": "stream",
     "text": [
      "Score:  0.964864485332\n"
     ]
    },
    {
     "data": {
      "image/png": "[encoded data removed]",
      "text/plain": [
       "<matplotlib.figure.Figure at 0x11feb4d50>"
      ]
     },
     "metadata": {},
     "output_type": "display_data"
    }
   ],
   "source": [
    "GBR = GradientBoostingRegressor(random_state=1)\n",
    "GBR.fit(X_train, y_train)\n",
    "y_pred = GBR.predict(X_test)\n",
    "print \"Score: \", GBR.score(X_test, y_test)\n",
    "\n",
    "plt.figure(figsize=(7,6))\n",
    "sns.regplot(y_pred,y_test)\n",
    "plt.title(\"imdb Ratings: actuals vs predictions\")\n",
    "plt.xlabel(\"Predicted values\")\n",
    "plt.ylabel(\"Actual values\")\n",
    "plt.show()"
   ]
  },
  {
   "cell_type": "markdown",
   "metadata": {
    "collapsed": true
   },
   "source": [
    "### At this point i realised something was wrong with my input data. Re-cheking I figured out, \"Index\" was used as one of the features, which was correlating well withe the IMDB rating.\n",
    "### Deleting the Index Column"
   ]
  },
  {
   "cell_type": "code",
   "execution_count": 426,
   "metadata": {
    "collapsed": false
   },
   "outputs": [],
   "source": [
    "dff = IMDB_Data.drop(\"Unnamed: 0\", axis =1)"
   ]
  },
  {
   "cell_type": "code",
   "execution_count": 429,
   "metadata": {
    "collapsed": false
   },
   "outputs": [],
   "source": [
    "SS = StandardScaler()\n",
    "\n",
    "X = SS.fit_transform(dff._get_numeric_data().drop(\"imdbRating\",axis=1))\n",
    "y = IMDB_Data.imdbRating"
   ]
  },
  {
   "cell_type": "code",
   "execution_count": 430,
   "metadata": {
    "collapsed": false
   },
   "outputs": [
    {
     "name": "stdout",
     "output_type": "stream",
     "text": [
      "Score:  0.317334366289\n"
     ]
    }
   ],
   "source": [
    "X_train, X_test, y_train, y_test = train_test_split(X, y, test_size=0.33, random_state=42)\n",
    "GBR = GradientBoostingRegressor(random_state=1)\n",
    "GBR.fit(X_train, y_train)\n",
    "y_pred = GBR.predict(X_test)\n",
    "print \"Score: \", GBR.score(X_test, y_test)"
   ]
  },
  {
   "cell_type": "code",
   "execution_count": 431,
   "metadata": {
    "collapsed": false
   },
   "outputs": [
    {
     "data": {
      "text/plain": [
       "(250, 377)"
      ]
     },
     "execution_count": 431,
     "metadata": {},
     "output_type": "execute_result"
    }
   ],
   "source": [
    "X.shape"
   ]
  },
  {
   "cell_type": "code",
   "execution_count": 433,
   "metadata": {
    "collapsed": false
   },
   "outputs": [],
   "source": [
    "X_Df = pd.DataFrame(X, columns = dff._get_numeric_data().drop(\"imdbRating\",axis=1).columns)"
   ]
  },
  {
   "cell_type": "code",
   "execution_count": 434,
   "metadata": {
    "collapsed": false
   },
   "outputs": [
    {
     "data": {
      "text/html": [
       "<div>\n",
       "<table border=\"1\" class=\"dataframe\">\n",
       "  <thead>\n",
       "    <tr style=\"text-align: right;\">\n",
       "      <th></th>\n",
       "      <th>Metascore</th>\n",
       "      <th>Response</th>\n",
       "      <th>Runtime</th>\n",
       "      <th>Year</th>\n",
       "      <th>imdbVotes</th>\n",
       "      <th>grossRevenue</th>\n",
       "      <th>aamir khan</th>\n",
       "      <th>adrien brody</th>\n",
       "      <th>al pacino</th>\n",
       "      <th>alec guinness</th>\n",
       "      <th>...</th>\n",
       "      <th>special effects</th>\n",
       "      <th>supporting cast</th>\n",
       "      <th>think movie</th>\n",
       "      <th>thought provoking</th>\n",
       "      <th>time watch</th>\n",
       "      <th>ve seen</th>\n",
       "      <th>watch movie</th>\n",
       "      <th>year old</th>\n",
       "      <th>years ago</th>\n",
       "      <th>years old</th>\n",
       "    </tr>\n",
       "  </thead>\n",
       "  <tbody>\n",
       "    <tr>\n",
       "      <th>0</th>\n",
       "      <td>-0.003638</td>\n",
       "      <td>0.0</td>\n",
       "      <td>0.400178</td>\n",
       "      <td>0.411349</td>\n",
       "      <td>3.844560</td>\n",
       "      <td>-0.534835</td>\n",
       "      <td>-0.110208</td>\n",
       "      <td>-0.089803</td>\n",
       "      <td>-0.127515</td>\n",
       "      <td>-0.110208</td>\n",
       "      <td>...</td>\n",
       "      <td>-0.261488</td>\n",
       "      <td>-0.270114</td>\n",
       "      <td>-0.214535</td>\n",
       "      <td>-0.243561</td>\n",
       "      <td>-0.224544</td>\n",
       "      <td>-0.512471</td>\n",
       "      <td>-0.286794</td>\n",
       "      <td>-0.261488</td>\n",
       "      <td>-0.214535</td>\n",
       "      <td>-0.243561</td>\n",
       "    </tr>\n",
       "    <tr>\n",
       "      <th>1</th>\n",
       "      <td>2.270044</td>\n",
       "      <td>0.0</td>\n",
       "      <td>1.431888</td>\n",
       "      <td>-0.498350</td>\n",
       "      <td>2.273202</td>\n",
       "      <td>0.376252</td>\n",
       "      <td>-0.110208</td>\n",
       "      <td>-0.089803</td>\n",
       "      <td>7.842194</td>\n",
       "      <td>-0.110208</td>\n",
       "      <td>...</td>\n",
       "      <td>-0.261488</td>\n",
       "      <td>-0.270114</td>\n",
       "      <td>-0.214535</td>\n",
       "      <td>-0.243561</td>\n",
       "      <td>-0.224544</td>\n",
       "      <td>1.951331</td>\n",
       "      <td>3.486817</td>\n",
       "      <td>-0.261488</td>\n",
       "      <td>-0.214535</td>\n",
       "      <td>4.105745</td>\n",
       "    </tr>\n",
       "    <tr>\n",
       "      <th>2</th>\n",
       "      <td>-0.003638</td>\n",
       "      <td>0.0</td>\n",
       "      <td>2.276014</td>\n",
       "      <td>-0.415650</td>\n",
       "      <td>1.182675</td>\n",
       "      <td>-0.287055</td>\n",
       "      <td>-0.110208</td>\n",
       "      <td>-0.089803</td>\n",
       "      <td>7.842194</td>\n",
       "      <td>-0.110208</td>\n",
       "      <td>...</td>\n",
       "      <td>-0.261488</td>\n",
       "      <td>-0.270114</td>\n",
       "      <td>-0.214535</td>\n",
       "      <td>-0.243561</td>\n",
       "      <td>-0.224544</td>\n",
       "      <td>-0.512471</td>\n",
       "      <td>-0.286794</td>\n",
       "      <td>-0.261488</td>\n",
       "      <td>-0.214535</td>\n",
       "      <td>-0.243561</td>\n",
       "    </tr>\n",
       "    <tr>\n",
       "      <th>3</th>\n",
       "      <td>0.223730</td>\n",
       "      <td>0.0</td>\n",
       "      <td>0.712817</td>\n",
       "      <td>0.990249</td>\n",
       "      <td>3.811471</td>\n",
       "      <td>3.785918</td>\n",
       "      <td>-0.110208</td>\n",
       "      <td>-0.089803</td>\n",
       "      <td>-0.127515</td>\n",
       "      <td>-0.110208</td>\n",
       "      <td>...</td>\n",
       "      <td>-0.261488</td>\n",
       "      <td>-0.270114</td>\n",
       "      <td>-0.214535</td>\n",
       "      <td>-0.243561</td>\n",
       "      <td>-0.224544</td>\n",
       "      <td>1.951331</td>\n",
       "      <td>-0.286794</td>\n",
       "      <td>-0.261488</td>\n",
       "      <td>-0.214535</td>\n",
       "      <td>-0.243561</td>\n",
       "    </tr>\n",
       "    <tr>\n",
       "      <th>4</th>\n",
       "      <td>-0.003638</td>\n",
       "      <td>0.0</td>\n",
       "      <td>-1.037962</td>\n",
       "      <td>-1.118599</td>\n",
       "      <td>0.146166</td>\n",
       "      <td>-0.332886</td>\n",
       "      <td>-0.110208</td>\n",
       "      <td>-0.089803</td>\n",
       "      <td>-0.127515</td>\n",
       "      <td>-0.110208</td>\n",
       "      <td>...</td>\n",
       "      <td>-0.261488</td>\n",
       "      <td>-0.270114</td>\n",
       "      <td>-0.214535</td>\n",
       "      <td>-0.243561</td>\n",
       "      <td>-0.224544</td>\n",
       "      <td>-0.512471</td>\n",
       "      <td>-0.286794</td>\n",
       "      <td>3.824265</td>\n",
       "      <td>-0.214535</td>\n",
       "      <td>-0.243561</td>\n",
       "    </tr>\n",
       "  </tbody>\n",
       "</table>\n",
       "<p>5 rows × 377 columns</p>\n",
       "</div>"
      ],
      "text/plain": [
       "   Metascore  Response   Runtime      Year  imdbVotes  grossRevenue  \\\n",
       "0  -0.003638       0.0  0.400178  0.411349   3.844560     -0.534835   \n",
       "1   2.270044       0.0  1.431888 -0.498350   2.273202      0.376252   \n",
       "2  -0.003638       0.0  2.276014 -0.415650   1.182675     -0.287055   \n",
       "3   0.223730       0.0  0.712817  0.990249   3.811471      3.785918   \n",
       "4  -0.003638       0.0 -1.037962 -1.118599   0.146166     -0.332886   \n",
       "\n",
       "   aamir khan  adrien brody  al pacino  alec guinness    ...      \\\n",
       "0   -0.110208     -0.089803  -0.127515      -0.110208    ...       \n",
       "1   -0.110208     -0.089803   7.842194      -0.110208    ...       \n",
       "2   -0.110208     -0.089803   7.842194      -0.110208    ...       \n",
       "3   -0.110208     -0.089803  -0.127515      -0.110208    ...       \n",
       "4   -0.110208     -0.089803  -0.127515      -0.110208    ...       \n",
       "\n",
       "   special effects  supporting cast  think movie  thought provoking  \\\n",
       "0        -0.261488        -0.270114    -0.214535          -0.243561   \n",
       "1        -0.261488        -0.270114    -0.214535          -0.243561   \n",
       "2        -0.261488        -0.270114    -0.214535          -0.243561   \n",
       "3        -0.261488        -0.270114    -0.214535          -0.243561   \n",
       "4        -0.261488        -0.270114    -0.214535          -0.243561   \n",
       "\n",
       "   time watch   ve seen  watch movie  year old  years ago  years old  \n",
       "0   -0.224544 -0.512471    -0.286794 -0.261488  -0.214535  -0.243561  \n",
       "1   -0.224544  1.951331     3.486817 -0.261488  -0.214535   4.105745  \n",
       "2   -0.224544 -0.512471    -0.286794 -0.261488  -0.214535  -0.243561  \n",
       "3   -0.224544  1.951331    -0.286794 -0.261488  -0.214535  -0.243561  \n",
       "4   -0.224544 -0.512471    -0.286794  3.824265  -0.214535  -0.243561  \n",
       "\n",
       "[5 rows x 377 columns]"
      ]
     },
     "execution_count": 434,
     "metadata": {},
     "output_type": "execute_result"
    }
   ],
   "source": [
    "X_Df.head()"
   ]
  },
  {
   "cell_type": "code",
   "execution_count": 435,
   "metadata": {
    "collapsed": false
   },
   "outputs": [
    {
     "name": "stdout",
     "output_type": "stream",
     "text": [
      "Score for Decision Tree -0.184986183605\n",
      "Score for Bagging Decision Tree 0.298666564323\n",
      "Score for Random Forest 0.302922321154\n",
      "Score for Ada Boost 0.274891655988\n",
      "Score for Gradient Boosting 0.317334366289\n"
     ]
    }
   ],
   "source": [
    "model_evaluate(DT, \"Decision Tree\")\n",
    "model_evaluate(BDT, \"Bagging Decision Tree\")\n",
    "model_evaluate(RFR, \"Random Forest\")\n",
    "model_evaluate(ABR, \"Ada Boost\")\n",
    "model_evaluate(GBR, \"Gradient Boosting\")"
   ]
  },
  {
   "cell_type": "code",
   "execution_count": 436,
   "metadata": {
    "collapsed": false
   },
   "outputs": [
    {
     "name": "stdout",
     "output_type": "stream",
     "text": [
      "Kbest features 127 with max score 0.403472 \n"
     ]
    }
   ],
   "source": [
    "max_score = 0.30\n",
    "max_i = 5\n",
    "for i in range(5,378):\n",
    "    GBR = GradientBoostingRegressor(random_state=1)\n",
    "    selector = SelectKBest(f_classif, k=i)\n",
    "    selected_data = selector.fit_transform(X, y)\n",
    "    Xbest = pd.DataFrame(selected_data)\n",
    "    X_train, X_test, y_train, y_test = train_test_split(Xbest, y, test_size=0.33, random_state=42)\n",
    "    \n",
    "    GBR.fit(X_train, y_train)\n",
    "    \n",
    "    score = GBR.score(X_test, y_test)\n",
    "    \n",
    "    if score > max_score:\n",
    "        max_score = score\n",
    "        max_i = i\n",
    "print \"Kbest features %d with max score %f \" %(max_i, max_score)"
   ]
  },
  {
   "cell_type": "code",
   "execution_count": 474,
   "metadata": {
    "collapsed": true
   },
   "outputs": [],
   "source": [
    "selector = SelectKBest(f_classif, k=127)\n",
    "\n",
    "selected_data = selector.fit_transform(X, y)\n",
    "Xbest = pd.DataFrame(selected_data)\n",
    "\n",
    "X_train, X_test, y_train, y_test = train_test_split(Xbest, y, test_size=0.33, random_state=42)"
   ]
  },
  {
   "cell_type": "code",
   "execution_count": 438,
   "metadata": {
    "collapsed": false
   },
   "outputs": [
    {
     "name": "stdout",
     "output_type": "stream",
     "text": [
      "Score:  0.403471884706\n"
     ]
    },
    {
     "data": {
      "image/png": "[encoded data removed]",
      "text/plain": [
       "<matplotlib.figure.Figure at 0x1173c1490>"
      ]
     },
     "metadata": {},
     "output_type": "display_data"
    }
   ],
   "source": [
    "GBR = GradientBoostingRegressor(random_state=1)\n",
    "GBR.fit(X_train, y_train)\n",
    "y_pred = GBR.predict(X_test)\n",
    "print \"Score: \", GBR.score(X_test, y_test)\n",
    "\n",
    "plt.figure(figsize=(7,6))\n",
    "sns.regplot(y_pred,y_test)\n",
    "plt.title(\"imdb Ratings: actuals vs predictions\")\n",
    "plt.xlabel(\"Predicted values\")\n",
    "plt.ylabel(\"Actual values\")\n",
    "plt.show()"
   ]
  },
  {
   "cell_type": "markdown",
   "metadata": {},
   "source": [
    "### The best score i got is 0.403 with 127 features."
   ]
  },
  {
   "cell_type": "code",
   "execution_count": null,
   "metadata": {
    "collapsed": true
   },
   "outputs": [],
   "source": []
  },
  {
   "cell_type": "markdown",
   "metadata": {},
   "source": [
    "### some code to get the best Feature names"
   ]
  },
  {
   "cell_type": "code",
   "execution_count": 488,
   "metadata": {
    "collapsed": false
   },
   "outputs": [
    {
     "data": {
      "text/plain": [
       "array(['Metascore', 'Runtime', 'Year', 'imdbVotes', 'grossRevenue',\n",
       "       'aamir khan', 'al pacino', 'ben kingsley', 'billy dee', 'brad pitt',\n",
       "       'bruce willis', 'carrie anne', 'carrie fisher', 'christian bale',\n",
       "       'christopher walken', 'clint eastwood', 'dee williams',\n",
       "       'diane keaton', 'dicaprio tom', 'eastwood lee', 'edward norton',\n",
       "       'fisher billy', 'ford carrie', 'hamill harrison', 'hugo weaving',\n",
       "       'j cobb', 'leonardo dicaprio', 'liam neeson', 'maria volont',\n",
       "       'mark hamill', 'marlon brando', 'michael caine', 'morgan freeman',\n",
       "       'noel appleby', 'pacino robert', 'ralph fiennes', 'robert duvall',\n",
       "       'robert niro', 'sean astin', 'takashi shimura', 'tim roth',\n",
       "       'tom hanks', 'toshir mifune', 'crime', 'music', 'thriller',\n",
       "       'western', 'crime.1', 'empire', 'fight', 'friends', 'girl', 'men',\n",
       "       'old', 'people', 'son', 'way', 'brazil', 'canada', 'iran', 'new.1',\n",
       "       'spain', 'turkey', 'west', 'zealand', 'czech', 'hebrew', 'italian',\n",
       "       'latin', 'mandarin', 'old.1', 'persian', 'polish', 'portuguese',\n",
       "       'quenya', 'sicilian', 'sindarin', 'turkish', 'APPROVED',\n",
       "       'NOT RATED', 'PG-13', u'amazing', u'best', u'better', u'big',\n",
       "       u'different', u'director', u'fact', u'good', u'great', u'greatest',\n",
       "       u'hard', u'look', u'lot', u'masterpiece', u'movies', u'new', u'old',\n",
       "       u'oscar', u'perfect', u'performance', u'quite', u'really', u'seen',\n",
       "       u'truly', u'watch', u'best film', u'best films', u'best movie',\n",
       "       u'best picture', u'black white', u'film film', u'film great',\n",
       "       u'film just', u'film making', u'haven seen', u'movie movie',\n",
       "       u'movies like', u'oscar winning', u'real life', u'saw film',\n",
       "       u'seen film', u'seen movie', u've seen', u'watch movie',\n",
       "       u'year old', u'years old'], dtype=object)"
      ]
     },
     "execution_count": 488,
     "metadata": {},
     "output_type": "execute_result"
    }
   ],
   "source": [
    "selector = SelectKBest(f_classif, k=127)\n",
    "selected_data = selector.fit_transform(X_Df, y)\n",
    "Xbest = pd.DataFrame(selected_data)\n",
    "kbest_columns = X_Df.columns[selector.get_support()]\n",
    "Xbest = pd.DataFrame(selected_data, columns=kbest_columns)\n",
    "Xbest.columns.values"
   ]
  },
  {
   "cell_type": "code",
   "execution_count": 489,
   "metadata": {
    "collapsed": false
   },
   "outputs": [
    {
     "name": "stdout",
     "output_type": "stream",
     "text": [
      "Score:  0.403471884706\n"
     ]
    }
   ],
   "source": [
    "X_train, X_test, y_train, y_test = train_test_split(Xbest, y, test_size=0.33, random_state=42)\n",
    "GBR = GradientBoostingRegressor(random_state=1)\n",
    "GBR.fit(X_train, y_train)\n",
    "y_pred = GBR.predict(X_test)\n",
    "print \"Score: \", GBR.score(X_test, y_test)"
   ]
  },
  {
   "cell_type": "code",
   "execution_count": 497,
   "metadata": {
    "collapsed": false
   },
   "outputs": [
    {
     "data": {
      "text/html": [
       "<div>\n",
       "<table border=\"1\" class=\"dataframe\">\n",
       "  <thead>\n",
       "    <tr style=\"text-align: right;\">\n",
       "      <th></th>\n",
       "      <th>0</th>\n",
       "    </tr>\n",
       "  </thead>\n",
       "  <tbody>\n",
       "    <tr>\n",
       "      <th>Metascore</th>\n",
       "      <td>0.069325</td>\n",
       "    </tr>\n",
       "    <tr>\n",
       "      <th>Runtime</th>\n",
       "      <td>0.060788</td>\n",
       "    </tr>\n",
       "    <tr>\n",
       "      <th>Year</th>\n",
       "      <td>0.113975</td>\n",
       "    </tr>\n",
       "    <tr>\n",
       "      <th>imdbVotes</th>\n",
       "      <td>0.268961</td>\n",
       "    </tr>\n",
       "    <tr>\n",
       "      <th>grossRevenue</th>\n",
       "      <td>0.113855</td>\n",
       "    </tr>\n",
       "  </tbody>\n",
       "</table>\n",
       "</div>"
      ],
      "text/plain": [
       "                     0\n",
       "Metascore     0.069325\n",
       "Runtime       0.060788\n",
       "Year          0.113975\n",
       "imdbVotes     0.268961\n",
       "grossRevenue  0.113855"
      ]
     },
     "execution_count": 497,
     "metadata": {},
     "output_type": "execute_result"
    }
   ],
   "source": [
    "imp_features_df = pd.DataFrame(GBR.feature_importances_, index=Xbest.columns.values)\n",
    "imp_features_df.head()"
   ]
  },
  {
   "cell_type": "code",
   "execution_count": 500,
   "metadata": {
    "collapsed": false
   },
   "outputs": [
    {
     "name": "stderr",
     "output_type": "stream",
     "text": [
      "/Users/Shreyas/anaconda/lib/python2.7/site-packages/ipykernel/__main__.py:1: FutureWarning: sort(columns=....) is deprecated, use sort_values(by=.....)\n",
      "  if __name__ == '__main__':\n"
     ]
    },
    {
     "data": {
      "text/html": [
       "<div>\n",
       "<table border=\"1\" class=\"dataframe\">\n",
       "  <thead>\n",
       "    <tr style=\"text-align: right;\">\n",
       "      <th></th>\n",
       "      <th>0</th>\n",
       "    </tr>\n",
       "  </thead>\n",
       "  <tbody>\n",
       "    <tr>\n",
       "      <th>imdbVotes</th>\n",
       "      <td>0.268961</td>\n",
       "    </tr>\n",
       "    <tr>\n",
       "      <th>Year</th>\n",
       "      <td>0.113975</td>\n",
       "    </tr>\n",
       "    <tr>\n",
       "      <th>grossRevenue</th>\n",
       "      <td>0.113855</td>\n",
       "    </tr>\n",
       "    <tr>\n",
       "      <th>Metascore</th>\n",
       "      <td>0.069325</td>\n",
       "    </tr>\n",
       "    <tr>\n",
       "      <th>Runtime</th>\n",
       "      <td>0.060788</td>\n",
       "    </tr>\n",
       "    <tr>\n",
       "      <th>girl</th>\n",
       "      <td>0.024642</td>\n",
       "    </tr>\n",
       "    <tr>\n",
       "      <th>aamir khan</th>\n",
       "      <td>0.019484</td>\n",
       "    </tr>\n",
       "    <tr>\n",
       "      <th>great</th>\n",
       "      <td>0.016736</td>\n",
       "    </tr>\n",
       "    <tr>\n",
       "      <th>truly</th>\n",
       "      <td>0.013674</td>\n",
       "    </tr>\n",
       "    <tr>\n",
       "      <th>hard</th>\n",
       "      <td>0.013206</td>\n",
       "    </tr>\n",
       "    <tr>\n",
       "      <th>fact</th>\n",
       "      <td>0.011085</td>\n",
       "    </tr>\n",
       "    <tr>\n",
       "      <th>film great</th>\n",
       "      <td>0.010651</td>\n",
       "    </tr>\n",
       "    <tr>\n",
       "      <th>APPROVED</th>\n",
       "      <td>0.010625</td>\n",
       "    </tr>\n",
       "    <tr>\n",
       "      <th>portuguese</th>\n",
       "      <td>0.010481</td>\n",
       "    </tr>\n",
       "    <tr>\n",
       "      <th>empire</th>\n",
       "      <td>0.009773</td>\n",
       "    </tr>\n",
       "    <tr>\n",
       "      <th>year old</th>\n",
       "      <td>0.009235</td>\n",
       "    </tr>\n",
       "    <tr>\n",
       "      <th>fight</th>\n",
       "      <td>0.009169</td>\n",
       "    </tr>\n",
       "    <tr>\n",
       "      <th>iran</th>\n",
       "      <td>0.009164</td>\n",
       "    </tr>\n",
       "    <tr>\n",
       "      <th>bruce willis</th>\n",
       "      <td>0.009157</td>\n",
       "    </tr>\n",
       "    <tr>\n",
       "      <th>watch</th>\n",
       "      <td>0.008973</td>\n",
       "    </tr>\n",
       "  </tbody>\n",
       "</table>\n",
       "</div>"
      ],
      "text/plain": [
       "                     0\n",
       "imdbVotes     0.268961\n",
       "Year          0.113975\n",
       "grossRevenue  0.113855\n",
       "Metascore     0.069325\n",
       "Runtime       0.060788\n",
       "girl          0.024642\n",
       "aamir khan    0.019484\n",
       "great         0.016736\n",
       "truly         0.013674\n",
       "hard          0.013206\n",
       "fact          0.011085\n",
       "film great    0.010651\n",
       "APPROVED      0.010625\n",
       "portuguese    0.010481\n",
       "empire        0.009773\n",
       "year old      0.009235\n",
       "fight         0.009169\n",
       "iran          0.009164\n",
       "bruce willis  0.009157\n",
       "watch         0.008973"
      ]
     },
     "execution_count": 500,
     "metadata": {},
     "output_type": "execute_result"
    }
   ],
   "source": [
    "imp_features_df.sort(0, ascending=[False]).head(20)"
   ]
  },
  {
   "cell_type": "code",
   "execution_count": null,
   "metadata": {
    "collapsed": true
   },
   "outputs": [],
   "source": []
  }
 ],
 "metadata": {
  "anaconda-cloud": {},
  "kernelspec": {
   "display_name": "Python [default]",
   "language": "python",
   "name": "python2"
  },
  "language_info": {
   "codemirror_mode": {
    "name": "ipython",
    "version": 2
   },
   "file_extension": ".py",
   "mimetype": "text/x-python",
   "name": "python",
   "nbconvert_exporter": "python",
   "pygments_lexer": "ipython2",
   "version": "2.7.12"
  }
 },
 "nbformat": 4,
 "nbformat_minor": 1
}
